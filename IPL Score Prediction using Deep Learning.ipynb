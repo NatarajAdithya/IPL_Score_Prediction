{
 "cells": [
  {
   "cell_type": "markdown",
   "metadata": {},
   "source": [
    "IPL Score Prediction using Deep Learning"
   ]
  },
  {
   "cell_type": "markdown",
   "metadata": {},
   "source": [
    "Since the dawn of the IPL in 2008, it has attracted viewers all around the globe. A high level of uncertainty and last-minute nail-biters have urged fans to watch the matches. Within a short period, the IPL has become the highest revenue-generating league in cricket. In a cricket match, we often see the scoreline showing the probability of the team winning based on the current match situation. This prediction is usually done with the help of data analytics. Before, when there were no advancements in machine learning, predictions were usually based on intuition or some basic algorithms. The above picture clearly tells you how bad it is to take run rate as a single factor to predict the final score in a limited-overs cricket match.\n",
    "Being a cricket fan, visualizing the statistics of cricket is mesmerizing. We went through various blogs and found out patterns that could be used for predicting the score of IPL matches beforehand. "
   ]
  },
  {
   "cell_type": "markdown",
   "metadata": {},
   "source": [
    "Why Deep Learning?\n",
    "We humans can’t easily identify patterns from huge data and thus here, machine learning and deep learning comes into play. It learns how the players and teams have performed against the opposite team previously and trains the model accordingly. Using only machine learning algorithm gives a moderate accuracy therefore we used deep learning which gives much better performance than our previous model and considers the attributes which can give accurate results.\n",
    "\n",
    "Tools used:\n",
    "Jupyter Notebook / Google colab\n",
    "Visual Studio\n",
    "Technology used:\n",
    "Machine Learning.\n",
    "Deep Learning\n",
    "Well, for the smooth running of the project we’ve used few libraries like NumPy, Pandas, Scikit-learn, TensorFlow, and Matplotlib.\n",
    "Step-by-step implementation:\n",
    "First, let’s import all the necessary libraries:"
   ]
  },
  {
   "cell_type": "code",
   "execution_count": 1,
   "metadata": {},
   "outputs": [],
   "source": [
    "import pandas as pd\n",
    "import numpy as np\n",
    "import matplotlib.pyplot as plt\n",
    "import seaborn as sns\n",
    "from sklearn import preprocessing\n",
    "import keras \n",
    "import tensorflow as tf\n"
   ]
  },
  {
   "cell_type": "markdown",
   "metadata": {},
   "source": [
    "Step 1: Loading the dataset!\n",
    "When dealing with cricket data, it contains data from the year 2008 to 2017.The dataset contain features like venue, date, batting and bowling team, names of batsman and bowler, wickets and more.\n",
    "\n",
    "We imported both the datasets using .read_csv() method into a dataframe using pandas and displayed the first 5 rows of each dataset."
   ]
  },
  {
   "cell_type": "code",
   "execution_count": 2,
   "metadata": {},
   "outputs": [
    {
     "data": {
      "text/html": [
       "<div>\n",
       "<style scoped>\n",
       "    .dataframe tbody tr th:only-of-type {\n",
       "        vertical-align: middle;\n",
       "    }\n",
       "\n",
       "    .dataframe tbody tr th {\n",
       "        vertical-align: top;\n",
       "    }\n",
       "\n",
       "    .dataframe thead th {\n",
       "        text-align: right;\n",
       "    }\n",
       "</style>\n",
       "<table border=\"1\" class=\"dataframe\">\n",
       "  <thead>\n",
       "    <tr style=\"text-align: right;\">\n",
       "      <th></th>\n",
       "      <th>mid</th>\n",
       "      <th>date</th>\n",
       "      <th>venue</th>\n",
       "      <th>bat_team</th>\n",
       "      <th>bowl_team</th>\n",
       "      <th>batsman</th>\n",
       "      <th>bowler</th>\n",
       "      <th>runs</th>\n",
       "      <th>wickets</th>\n",
       "      <th>overs</th>\n",
       "      <th>runs_last_5</th>\n",
       "      <th>wickets_last_5</th>\n",
       "      <th>striker</th>\n",
       "      <th>non-striker</th>\n",
       "      <th>total</th>\n",
       "    </tr>\n",
       "  </thead>\n",
       "  <tbody>\n",
       "    <tr>\n",
       "      <th>0</th>\n",
       "      <td>1</td>\n",
       "      <td>2008-04-18</td>\n",
       "      <td>M Chinnaswamy Stadium</td>\n",
       "      <td>Kolkata Knight Riders</td>\n",
       "      <td>Royal Challengers Bangalore</td>\n",
       "      <td>SC Ganguly</td>\n",
       "      <td>P Kumar</td>\n",
       "      <td>1</td>\n",
       "      <td>0</td>\n",
       "      <td>0.1</td>\n",
       "      <td>1</td>\n",
       "      <td>0</td>\n",
       "      <td>0</td>\n",
       "      <td>0</td>\n",
       "      <td>222</td>\n",
       "    </tr>\n",
       "    <tr>\n",
       "      <th>1</th>\n",
       "      <td>1</td>\n",
       "      <td>2008-04-18</td>\n",
       "      <td>M Chinnaswamy Stadium</td>\n",
       "      <td>Kolkata Knight Riders</td>\n",
       "      <td>Royal Challengers Bangalore</td>\n",
       "      <td>BB McCullum</td>\n",
       "      <td>P Kumar</td>\n",
       "      <td>1</td>\n",
       "      <td>0</td>\n",
       "      <td>0.2</td>\n",
       "      <td>1</td>\n",
       "      <td>0</td>\n",
       "      <td>0</td>\n",
       "      <td>0</td>\n",
       "      <td>222</td>\n",
       "    </tr>\n",
       "    <tr>\n",
       "      <th>2</th>\n",
       "      <td>1</td>\n",
       "      <td>2008-04-18</td>\n",
       "      <td>M Chinnaswamy Stadium</td>\n",
       "      <td>Kolkata Knight Riders</td>\n",
       "      <td>Royal Challengers Bangalore</td>\n",
       "      <td>BB McCullum</td>\n",
       "      <td>P Kumar</td>\n",
       "      <td>2</td>\n",
       "      <td>0</td>\n",
       "      <td>0.2</td>\n",
       "      <td>2</td>\n",
       "      <td>0</td>\n",
       "      <td>0</td>\n",
       "      <td>0</td>\n",
       "      <td>222</td>\n",
       "    </tr>\n",
       "    <tr>\n",
       "      <th>3</th>\n",
       "      <td>1</td>\n",
       "      <td>2008-04-18</td>\n",
       "      <td>M Chinnaswamy Stadium</td>\n",
       "      <td>Kolkata Knight Riders</td>\n",
       "      <td>Royal Challengers Bangalore</td>\n",
       "      <td>BB McCullum</td>\n",
       "      <td>P Kumar</td>\n",
       "      <td>2</td>\n",
       "      <td>0</td>\n",
       "      <td>0.3</td>\n",
       "      <td>2</td>\n",
       "      <td>0</td>\n",
       "      <td>0</td>\n",
       "      <td>0</td>\n",
       "      <td>222</td>\n",
       "    </tr>\n",
       "    <tr>\n",
       "      <th>4</th>\n",
       "      <td>1</td>\n",
       "      <td>2008-04-18</td>\n",
       "      <td>M Chinnaswamy Stadium</td>\n",
       "      <td>Kolkata Knight Riders</td>\n",
       "      <td>Royal Challengers Bangalore</td>\n",
       "      <td>BB McCullum</td>\n",
       "      <td>P Kumar</td>\n",
       "      <td>2</td>\n",
       "      <td>0</td>\n",
       "      <td>0.4</td>\n",
       "      <td>2</td>\n",
       "      <td>0</td>\n",
       "      <td>0</td>\n",
       "      <td>0</td>\n",
       "      <td>222</td>\n",
       "    </tr>\n",
       "  </tbody>\n",
       "</table>\n",
       "</div>"
      ],
      "text/plain": [
       "   mid        date                  venue               bat_team  \\\n",
       "0    1  2008-04-18  M Chinnaswamy Stadium  Kolkata Knight Riders   \n",
       "1    1  2008-04-18  M Chinnaswamy Stadium  Kolkata Knight Riders   \n",
       "2    1  2008-04-18  M Chinnaswamy Stadium  Kolkata Knight Riders   \n",
       "3    1  2008-04-18  M Chinnaswamy Stadium  Kolkata Knight Riders   \n",
       "4    1  2008-04-18  M Chinnaswamy Stadium  Kolkata Knight Riders   \n",
       "\n",
       "                     bowl_team      batsman   bowler  runs  wickets  overs  \\\n",
       "0  Royal Challengers Bangalore   SC Ganguly  P Kumar     1        0    0.1   \n",
       "1  Royal Challengers Bangalore  BB McCullum  P Kumar     1        0    0.2   \n",
       "2  Royal Challengers Bangalore  BB McCullum  P Kumar     2        0    0.2   \n",
       "3  Royal Challengers Bangalore  BB McCullum  P Kumar     2        0    0.3   \n",
       "4  Royal Challengers Bangalore  BB McCullum  P Kumar     2        0    0.4   \n",
       "\n",
       "   runs_last_5  wickets_last_5  striker  non-striker  total  \n",
       "0            1               0        0            0    222  \n",
       "1            1               0        0            0    222  \n",
       "2            2               0        0            0    222  \n",
       "3            2               0        0            0    222  \n",
       "4            2               0        0            0    222  "
      ]
     },
     "execution_count": 2,
     "metadata": {},
     "output_type": "execute_result"
    }
   ],
   "source": [
    "ipl = pd.read_csv('ipl.csv')\n",
    "ipl.head()\n"
   ]
  },
  {
   "cell_type": "markdown",
   "metadata": {},
   "source": [
    "Step 3: Data Pre-processing\n",
    "Dropping unimportant features\n",
    "\n",
    "We have created a new dataframe by dropping several columns from the original DataFrame.\n",
    "The new DataFrame contains the remaining columns that we are going to train the predictive model."
   ]
  },
  {
   "cell_type": "code",
   "execution_count": 3,
   "metadata": {},
   "outputs": [],
   "source": [
    "#Dropping certain features \n",
    "df = ipl.drop(['date', 'runs', 'wickets', 'overs', 'runs_last_5', 'wickets_last_5','mid', 'striker', 'non-striker'], axis =1)\n"
   ]
  },
  {
   "cell_type": "markdown",
   "metadata": {},
   "source": [
    "Further Pre-Processing\n",
    "\n",
    "We have split the data frame into input features (X) and target features (y). Our target features is the total score."
   ]
  },
  {
   "cell_type": "code",
   "execution_count": 4,
   "metadata": {},
   "outputs": [],
   "source": [
    "X = df.drop(['total'], axis =1)\n",
    "y = df['total']\n"
   ]
  },
  {
   "cell_type": "markdown",
   "metadata": {},
   "source": [
    "Label Encoding\n",
    "\n",
    "We have applied label encoding to your categorical features in X.\n",
    "We have created separate LabelEncoder objects for each categorical feature and encoded their values.\n",
    "We have created mappings to convert the encoded labels back to their original values, which can be helpful for interpreting the results."
   ]
  },
  {
   "cell_type": "code",
   "execution_count": 5,
   "metadata": {},
   "outputs": [],
   "source": [
    "#Label Encoding\n",
    "\n",
    "from sklearn.preprocessing import LabelEncoder\n",
    "\n",
    "# Create a LabelEncoder object for each categorical feature\n",
    "venue_encoder = LabelEncoder()\n",
    "batting_team_encoder = LabelEncoder()\n",
    "bowling_team_encoder = LabelEncoder()\n",
    "striker_encoder = LabelEncoder()\n",
    "bowler_encoder = LabelEncoder()\n",
    "\n",
    "# Fit and transform the categorical features with label encoding\n",
    "X['venue'] = venue_encoder.fit_transform(X['venue'])\n",
    "X['bat_team'] = batting_team_encoder.fit_transform(X['bat_team'])\n",
    "X['bowl_team'] = bowling_team_encoder.fit_transform(X['bowl_team'])\n",
    "X['batsman'] = striker_encoder.fit_transform(X['batsman'])\n",
    "X['bowler'] = bowler_encoder.fit_transform(X['bowler'])\n"
   ]
  },
  {
   "cell_type": "markdown",
   "metadata": {},
   "source": [
    "Train Test Split\n",
    "\n",
    "We have split the data into training and testing sets. The training set contains 70 percent of the dataset and rest 30 percent is in test set.\n",
    "X_train contains the training data for your input features.\n",
    "X_test contains the testing data for your input features.\n",
    "y_train contains the training data for your target variable.\n",
    "y_test contains the testing data for your target variable."
   ]
  },
  {
   "cell_type": "code",
   "execution_count": 6,
   "metadata": {},
   "outputs": [],
   "source": [
    "# Train test Split \n",
    "from sklearn.model_selection import train_test_split\n",
    "X_train, X_test, y_train, y_test = train_test_split(X, y, test_size=0.3, random_state=42)\n"
   ]
  },
  {
   "cell_type": "markdown",
   "metadata": {},
   "source": [
    "Feature Scaling\n",
    "\n",
    "We have performed Min-Max scaling on our input features to ensure all the features are on the same scale\n",
    "Scaling is performed to ensure consistent scale to improve model performance.\n",
    "Scaling has transformed both training and testing data using the scaling parameters."
   ]
  },
  {
   "cell_type": "code",
   "execution_count": 7,
   "metadata": {},
   "outputs": [],
   "source": [
    "from sklearn.preprocessing import MinMaxScaler\n",
    "\n",
    "scaler = MinMaxScaler()\n",
    "\n",
    "# Fit the scaler on the training data and transform both training and testing data\n",
    "X_train_scaled = scaler.fit_transform(X_train)\n",
    "X_test_scaled = scaler.transform(X_test)\n"
   ]
  },
  {
   "cell_type": "markdown",
   "metadata": {},
   "source": [
    "Step 4: Define the Neural Network\n",
    "\n",
    "We have defined a neural network using TensorFlow and Keras for regression.\n",
    "After defining the model, we have compiled the model using the Huber Loss."
   ]
  },
  {
   "cell_type": "code",
   "execution_count": 8,
   "metadata": {},
   "outputs": [],
   "source": [
    "# Define the neural network model\n",
    "model = keras.Sequential([\n",
    "\tkeras.layers.Input( shape=(X_train_scaled.shape[1],)), # Input layer\n",
    "\tkeras.layers.Dense(512, activation='relu'), # Hidden layer with 512 units and ReLU activation\n",
    "\tkeras.layers.Dense(216, activation='relu'), # Hidden layer with 216 units and ReLU activation\n",
    "\tkeras.layers.Dense(1, activation='linear') # Output layer with linear activation for regression\n",
    "])\n",
    "\n",
    "# Compile the model with Huber loss\n",
    "huber_loss = tf.keras.losses.Huber(delta=1.0) # You can adjust the 'delta' parameter as needed\n",
    "model.compile(optimizer='adam', loss=huber_loss) # Use Huber loss for regression\n"
   ]
  },
  {
   "cell_type": "markdown",
   "metadata": {},
   "source": [
    "Step 5: Model Training\n",
    "We have trained the neural network model using the scaled training data."
   ]
  },
  {
   "cell_type": "code",
   "execution_count": 9,
   "metadata": {},
   "outputs": [
    {
     "name": "stdout",
     "output_type": "stream",
     "text": [
      "Epoch 1/50\n",
      "832/832 [==============================] - 4s 3ms/step - loss: 32.2268 - val_loss: 22.1239\n",
      "Epoch 2/50\n",
      "832/832 [==============================] - 3s 4ms/step - loss: 22.3832 - val_loss: 22.0415\n",
      "Epoch 3/50\n",
      "832/832 [==============================] - 3s 4ms/step - loss: 22.2661 - val_loss: 22.2245\n",
      "Epoch 4/50\n",
      "832/832 [==============================] - 3s 4ms/step - loss: 22.2553 - val_loss: 22.4301\n",
      "Epoch 5/50\n",
      "832/832 [==============================] - 3s 4ms/step - loss: 22.2114 - val_loss: 21.8889\n",
      "Epoch 6/50\n",
      "832/832 [==============================] - 3s 4ms/step - loss: 22.1866 - val_loss: 21.8209\n",
      "Epoch 7/50\n",
      "832/832 [==============================] - 3s 3ms/step - loss: 22.1576 - val_loss: 21.8108\n",
      "Epoch 8/50\n",
      "832/832 [==============================] - 3s 4ms/step - loss: 22.1072 - val_loss: 21.7978\n",
      "Epoch 9/50\n",
      "832/832 [==============================] - 3s 4ms/step - loss: 22.1305 - val_loss: 21.9095\n",
      "Epoch 10/50\n",
      "832/832 [==============================] - 3s 4ms/step - loss: 22.1121 - val_loss: 21.7893\n",
      "Epoch 11/50\n",
      "832/832 [==============================] - 3s 4ms/step - loss: 22.0883 - val_loss: 22.3712\n",
      "Epoch 12/50\n",
      "832/832 [==============================] - 3s 3ms/step - loss: 22.0735 - val_loss: 21.7730\n",
      "Epoch 13/50\n",
      "832/832 [==============================] - 3s 3ms/step - loss: 22.0379 - val_loss: 21.7723\n",
      "Epoch 14/50\n",
      "832/832 [==============================] - 3s 4ms/step - loss: 22.0303 - val_loss: 21.8826\n",
      "Epoch 15/50\n",
      "832/832 [==============================] - 3s 4ms/step - loss: 22.1053 - val_loss: 21.7886\n",
      "Epoch 16/50\n",
      "832/832 [==============================] - 3s 3ms/step - loss: 22.0029 - val_loss: 21.7044\n",
      "Epoch 17/50\n",
      "832/832 [==============================] - 3s 4ms/step - loss: 22.0045 - val_loss: 22.0328\n",
      "Epoch 18/50\n",
      "832/832 [==============================] - 3s 4ms/step - loss: 22.0278 - val_loss: 21.6997\n",
      "Epoch 19/50\n",
      "832/832 [==============================] - 4s 4ms/step - loss: 21.9893 - val_loss: 22.0639\n",
      "Epoch 20/50\n",
      "832/832 [==============================] - 3s 4ms/step - loss: 21.9140 - val_loss: 22.4046\n",
      "Epoch 21/50\n",
      "832/832 [==============================] - 3s 4ms/step - loss: 21.7793 - val_loss: 21.4939\n",
      "Epoch 22/50\n",
      "832/832 [==============================] - 3s 3ms/step - loss: 21.7483 - val_loss: 21.3739\n",
      "Epoch 23/50\n",
      "832/832 [==============================] - 3s 3ms/step - loss: 21.6729 - val_loss: 21.4977\n",
      "Epoch 24/50\n",
      "832/832 [==============================] - 3s 4ms/step - loss: 21.6180 - val_loss: 21.5260\n",
      "Epoch 25/50\n",
      "832/832 [==============================] - 4s 5ms/step - loss: 21.5899 - val_loss: 21.2308\n",
      "Epoch 26/50\n",
      "832/832 [==============================] - 3s 4ms/step - loss: 21.5221 - val_loss: 21.4643\n",
      "Epoch 27/50\n",
      "832/832 [==============================] - 3s 4ms/step - loss: 21.4802 - val_loss: 21.4828\n",
      "Epoch 28/50\n",
      "832/832 [==============================] - 4s 5ms/step - loss: 21.4083 - val_loss: 21.3858\n",
      "Epoch 29/50\n",
      "832/832 [==============================] - 3s 4ms/step - loss: 21.3555 - val_loss: 21.1248\n",
      "Epoch 30/50\n",
      "832/832 [==============================] - 3s 3ms/step - loss: 21.2635 - val_loss: 21.0753\n",
      "Epoch 31/50\n",
      "832/832 [==============================] - 3s 4ms/step - loss: 21.1981 - val_loss: 20.9282\n",
      "Epoch 32/50\n",
      "832/832 [==============================] - 3s 4ms/step - loss: 21.1419 - val_loss: 21.1991\n",
      "Epoch 33/50\n",
      "832/832 [==============================] - 3s 4ms/step - loss: 21.1009 - val_loss: 20.7769\n",
      "Epoch 34/50\n",
      "832/832 [==============================] - 3s 3ms/step - loss: 20.9870 - val_loss: 20.6404\n",
      "Epoch 35/50\n",
      "832/832 [==============================] - 3s 4ms/step - loss: 20.8765 - val_loss: 20.7787\n",
      "Epoch 36/50\n",
      "832/832 [==============================] - 3s 4ms/step - loss: 20.7196 - val_loss: 21.3308\n",
      "Epoch 37/50\n",
      "832/832 [==============================] - 3s 4ms/step - loss: 20.6456 - val_loss: 20.3560\n",
      "Epoch 38/50\n",
      "832/832 [==============================] - 3s 4ms/step - loss: 20.5438 - val_loss: 20.2610\n",
      "Epoch 39/50\n",
      "832/832 [==============================] - 3s 4ms/step - loss: 20.3965 - val_loss: 20.2676\n",
      "Epoch 40/50\n",
      "832/832 [==============================] - 3s 4ms/step - loss: 20.3312 - val_loss: 19.9769\n",
      "Epoch 41/50\n",
      "832/832 [==============================] - 3s 4ms/step - loss: 20.1854 - val_loss: 20.0966\n",
      "Epoch 42/50\n",
      "832/832 [==============================] - 3s 4ms/step - loss: 20.1025 - val_loss: 19.8369\n",
      "Epoch 43/50\n",
      "832/832 [==============================] - 3s 4ms/step - loss: 19.9389 - val_loss: 20.1158\n",
      "Epoch 44/50\n",
      "832/832 [==============================] - 3s 4ms/step - loss: 19.8554 - val_loss: 19.5301\n",
      "Epoch 45/50\n",
      "832/832 [==============================] - 3s 3ms/step - loss: 19.6976 - val_loss: 19.4340\n",
      "Epoch 46/50\n",
      "832/832 [==============================] - 3s 3ms/step - loss: 19.6364 - val_loss: 19.4780\n",
      "Epoch 47/50\n",
      "832/832 [==============================] - 3s 4ms/step - loss: 19.4734 - val_loss: 19.3079\n",
      "Epoch 48/50\n",
      "832/832 [==============================] - 3s 4ms/step - loss: 19.4320 - val_loss: 19.5222\n",
      "Epoch 49/50\n",
      "832/832 [==============================] - 3s 3ms/step - loss: 19.3509 - val_loss: 19.0087\n",
      "Epoch 50/50\n",
      "832/832 [==============================] - 3s 3ms/step - loss: 19.2246 - val_loss: 18.9092\n"
     ]
    },
    {
     "data": {
      "text/plain": [
       "<keras.src.callbacks.History at 0x1760bbfebd0>"
      ]
     },
     "execution_count": 9,
     "metadata": {},
     "output_type": "execute_result"
    }
   ],
   "source": [
    "# Train the model\n",
    "model.fit(X_train_scaled, y_train, epochs=50, batch_size=64, validation_data=(X_test_scaled, y_test))\n"
   ]
  },
  {
   "cell_type": "markdown",
   "metadata": {},
   "source": [
    "After the training, we have stored the training and validation loss values to our neural network during the training process."
   ]
  },
  {
   "cell_type": "code",
   "execution_count": 14,
   "metadata": {},
   "outputs": [
    {
     "data": {
      "text/plain": [
       "<Axes: >"
      ]
     },
     "execution_count": 14,
     "metadata": {},
     "output_type": "execute_result"
    },
    {
     "data": {
      "image/png": "[encoded data removed]",
      "text/plain": [
       "<Figure size 640x480 with 1 Axes>"
      ]
     },
     "metadata": {},
     "output_type": "display_data"
    }
   ],
   "source": [
    "model_losses = pd.DataFrame(model.history.history)\n",
    "model_losses.plot()\n",
    "#Epoch vs Loss & Validation Loss"
   ]
  },
  {
   "cell_type": "markdown",
   "metadata": {},
   "source": [
    "Step 6: Model Evaluation\n",
    "\n",
    "We have predicted using the trained neural network on the testing data.\n",
    "The variable predictions contains the predicted total run scores for the test set based on the model’s learned patterns."
   ]
  },
  {
   "cell_type": "code",
   "execution_count": 15,
   "metadata": {},
   "outputs": [
    {
     "name": "stdout",
     "output_type": "stream",
     "text": [
      "713/713 [==============================] - 1s 1ms/step\n"
     ]
    },
    {
     "data": {
      "text/plain": [
       "19.399862980690997"
      ]
     },
     "execution_count": 15,
     "metadata": {},
     "output_type": "execute_result"
    }
   ],
   "source": [
    "# Make predictions\n",
    "predictions = model.predict(X_test_scaled)\n",
    "\n",
    "from sklearn.metrics import mean_absolute_error,mean_squared_error\n",
    "mean_absolute_error(y_test,predictions)\n"
   ]
  },
  {
   "cell_type": "markdown",
   "metadata": {},
   "source": [
    "Step 7: Let’s create an Interactive Widget\n",
    "We have created an interactive widget using ipywidgets to predict the score based on user input for venue, batting team, bowling team, striker, and bowler.\n",
    "We have created dropdown widgets to select values for venue, batting team, bowling team, striker, and bowler.\n",
    "Then, we have added a “Predicted Score” button widget. Whenever, the button will be clicked, the predict_score function will be called and then perform the following steps:\n",
    "Decodes the user-selected values to their original categorical values.\n",
    "Encodes and scales these values to match the format used in model training.\n",
    "Uses the trained model to make a prediction based on the user’s input.\n",
    "Displays the predicted score."
   ]
  },
  {
   "cell_type": "code",
   "execution_count": null,
   "metadata": {},
   "outputs": [],
   "source": [
    "import ipywidgets as widgets\n",
    "from IPython.display import display, clear_output\n",
    "\n",
    "import warnings\n",
    "warnings.filterwarnings(\"ignore\")\n",
    "\n",
    "venue = widgets.Dropdown(options=df['venue'].unique().tolist(),description='Select Venue:')\n",
    "batting_team = widgets.Dropdown(options =df['bat_team'].unique().tolist(), description='Select Batting Team:')\n",
    "bowling_team = widgets.Dropdown(options=df['bowl_team'].unique().tolist(), description='Select Batting Team:')\n",
    "striker = widgets.Dropdown(options=df['batsman'].unique().tolist(), description='Select Striker:')\n",
    "bowler = widgets.Dropdown(options=df['bowler'].unique().tolist(), description='Select Bowler:')\n",
    "\n",
    "predict_button = widgets.Button(description=\"Predict Score\")\n",
    "\n",
    "def predict_score(b):\n",
    "\twith output:\n",
    "\t\tclear_output() # Clear the previous output\n",
    "\t\t\n",
    "\n",
    "\t\t# Decode the encoded values back to their original values\n",
    "\t\tdecoded_venue = venue_encoder.transform([venue.value])\n",
    "\t\tdecoded_batting_team = batting_team_encoder.transform([batting_team.value])\n",
    "\t\tdecoded_bowling_team = bowling_team_encoder.transform([bowling_team.value])\n",
    "\t\tdecoded_striker = striker_encoder.transform([striker.value])\n",
    "\t\tdecoded_bowler = bowler_encoder.transform([bowler.value])\n",
    "\n",
    "\n",
    "\t\tinput = np.array([decoded_venue, decoded_batting_team, decoded_bowling_team,decoded_striker, decoded_bowler])\n",
    "\t\tinput = input.reshape(1,5)\n",
    "\t\tinput = scaler.transform(input)\n",
    "\t\t#print(input)\n",
    "\t\tpredicted_score = model.predict(input)\n",
    "\t\tpredicted_score = int(predicted_score[0,0])\n",
    "\n",
    "\t\tprint(predicted_score)\n",
    "\t\t\n",
    "\n"
   ]
  },
  {
   "cell_type": "markdown",
   "metadata": {},
   "source": [
    "The widget-based interface allows you to interactively predict the score for specific match scenarios. Now, we have set up the button to trigger the predict_score function when clicked and display the widgets for venue, batting team , bowling team, striker and bowler."
   ]
  },
  {
   "cell_type": "code",
   "execution_count": null,
   "metadata": {},
   "outputs": [],
   "source": [
    "predict_button.on_click(predict_score)\n",
    "output = widgets.Output()\n",
    "display(venue, batting_team, bowling_team, striker, bowler, predict_button, output)\n"
   ]
  },
  {
   "cell_type": "markdown",
   "metadata": {},
   "source": [
    "We have predicted the score of the match between CSK and King XI Punjab in Punjab Cricket Stadium. The predicted score of the match is 183.\n",
    "\n",
    "By harnessing the power of ML and DL, we have successfully predicted the cricket scores based on historical data. The model’s ability to predict cricket scores can be a valuable asset for IPL enthusiasts, teams, and analysts. It can provide insights into the dynamics of a match and help anticipate how different factors impact the final score."
   ]
  }
 ],
 "metadata": {
  "kernelspec": {
   "display_name": "Python 3",
   "language": "python",
   "name": "python3"
  },
  "language_info": {
   "codemirror_mode": {
    "name": "ipython",
    "version": 3
   },
   "file_extension": ".py",
   "mimetype": "text/x-python",
   "name": "python",
   "nbconvert_exporter": "python",
   "pygments_lexer": "ipython3",
   "version": "3.11.4"
  }
 },
 "nbformat": 4,
 "nbformat_minor": 2
}
